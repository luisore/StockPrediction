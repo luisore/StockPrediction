{
 "cells": [
  {
   "cell_type": "code",
   "execution_count": 40,
   "id": "406e935a-a321-4670-8f63-e0e2d235848f",
   "metadata": {},
   "outputs": [],
   "source": [
    "import yfinance as yf"
   ]
  },
  {
   "cell_type": "code",
   "execution_count": 42,
   "id": "df39039b-5bdf-4ec5-896b-579e090d7d02",
   "metadata": {},
   "outputs": [],
   "source": [
    "from datetime import datetime\n",
    "end = datetime.now()\n",
    "start=datetime(end.year-10, end.month, end.day)"
   ]
  },
  {
   "cell_type": "code",
   "execution_count": 44,
   "id": "ff82a34d-30c1-4ac3-9de2-f67632e25e30",
   "metadata": {},
   "outputs": [
    {
     "name": "stderr",
     "output_type": "stream",
     "text": [
      "[*********************100%***********************]  1 of 1 completed\n"
     ]
    }
   ],
   "source": [
    "stock = \"GOOG\"\n",
    "google_data = yf.download(stock,start,end)"
   ]
  },
  {
   "cell_type": "code",
   "execution_count": 45,
   "id": "bf02f525-08f8-4f25-9416-5b5f9bd39f56",
   "metadata": {},
   "outputs": [
    {
     "data": {
      "text/html": [
       "<div>\n",
       "<style scoped>\n",
       "    .dataframe tbody tr th:only-of-type {\n",
       "        vertical-align: middle;\n",
       "    }\n",
       "\n",
       "    .dataframe tbody tr th {\n",
       "        vertical-align: top;\n",
       "    }\n",
       "\n",
       "    .dataframe thead tr th {\n",
       "        text-align: left;\n",
       "    }\n",
       "\n",
       "    .dataframe thead tr:last-of-type th {\n",
       "        text-align: right;\n",
       "    }\n",
       "</style>\n",
       "<table border=\"1\" class=\"dataframe\">\n",
       "  <thead>\n",
       "    <tr>\n",
       "      <th>Price</th>\n",
       "      <th>Adj Close</th>\n",
       "      <th>Close</th>\n",
       "      <th>High</th>\n",
       "      <th>Low</th>\n",
       "      <th>Open</th>\n",
       "      <th>Volume</th>\n",
       "    </tr>\n",
       "    <tr>\n",
       "      <th>Ticker</th>\n",
       "      <th>GOOG</th>\n",
       "      <th>GOOG</th>\n",
       "      <th>GOOG</th>\n",
       "      <th>GOOG</th>\n",
       "      <th>GOOG</th>\n",
       "      <th>GOOG</th>\n",
       "    </tr>\n",
       "    <tr>\n",
       "      <th>Date</th>\n",
       "      <th></th>\n",
       "      <th></th>\n",
       "      <th></th>\n",
       "      <th></th>\n",
       "      <th></th>\n",
       "      <th></th>\n",
       "    </tr>\n",
       "  </thead>\n",
       "  <tbody>\n",
       "    <tr>\n",
       "      <th>2014-12-09</th>\n",
       "      <td>26.530329</td>\n",
       "      <td>26.595482</td>\n",
       "      <td>26.636370</td>\n",
       "      <td>25.953745</td>\n",
       "      <td>26.035519</td>\n",
       "      <td>37426473</td>\n",
       "    </tr>\n",
       "    <tr>\n",
       "      <th>2014-12-10</th>\n",
       "      <td>26.166723</td>\n",
       "      <td>26.230984</td>\n",
       "      <td>26.743076</td>\n",
       "      <td>26.206051</td>\n",
       "      <td>26.581022</td>\n",
       "      <td>34245764</td>\n",
       "    </tr>\n",
       "    <tr>\n",
       "      <th>2014-12-11</th>\n",
       "      <td>26.280132</td>\n",
       "      <td>26.344671</td>\n",
       "      <td>26.622908</td>\n",
       "      <td>26.282841</td>\n",
       "      <td>26.317745</td>\n",
       "      <td>32216207</td>\n",
       "    </tr>\n",
       "    <tr>\n",
       "      <th>2014-12-12</th>\n",
       "      <td>25.798639</td>\n",
       "      <td>25.861996</td>\n",
       "      <td>26.352650</td>\n",
       "      <td>25.861996</td>\n",
       "      <td>26.103832</td>\n",
       "      <td>39891221</td>\n",
       "    </tr>\n",
       "    <tr>\n",
       "      <th>2014-12-15</th>\n",
       "      <td>25.556898</td>\n",
       "      <td>25.619661</td>\n",
       "      <td>26.083387</td>\n",
       "      <td>25.593233</td>\n",
       "      <td>26.065437</td>\n",
       "      <td>56268061</td>\n",
       "    </tr>\n",
       "  </tbody>\n",
       "</table>\n",
       "</div>"
      ],
      "text/plain": [
       "Price       Adj Close      Close       High        Low       Open    Volume\n",
       "Ticker           GOOG       GOOG       GOOG       GOOG       GOOG      GOOG\n",
       "Date                                                                       \n",
       "2014-12-09  26.530329  26.595482  26.636370  25.953745  26.035519  37426473\n",
       "2014-12-10  26.166723  26.230984  26.743076  26.206051  26.581022  34245764\n",
       "2014-12-11  26.280132  26.344671  26.622908  26.282841  26.317745  32216207\n",
       "2014-12-12  25.798639  25.861996  26.352650  25.861996  26.103832  39891221\n",
       "2014-12-15  25.556898  25.619661  26.083387  25.593233  26.065437  56268061"
      ]
     },
     "execution_count": 45,
     "metadata": {},
     "output_type": "execute_result"
    }
   ],
   "source": [
    "google_data.head()"
   ]
  },
  {
   "cell_type": "code",
   "execution_count": 46,
   "id": "9bf191f2-3a2e-4f43-b31b-d0e17f6519fa",
   "metadata": {},
   "outputs": [
    {
     "data": {
      "text/plain": [
       "(2517, 6)"
      ]
     },
     "execution_count": 46,
     "metadata": {},
     "output_type": "execute_result"
    }
   ],
   "source": [
    "google_data.shape"
   ]
  },
  {
   "cell_type": "code",
   "execution_count": 50,
   "id": "3c4891a6-5aed-41ef-a57a-9debc6785931",
   "metadata": {},
   "outputs": [
    {
     "data": {
      "text/html": [
       "<div>\n",
       "<style scoped>\n",
       "    .dataframe tbody tr th:only-of-type {\n",
       "        vertical-align: middle;\n",
       "    }\n",
       "\n",
       "    .dataframe tbody tr th {\n",
       "        vertical-align: top;\n",
       "    }\n",
       "\n",
       "    .dataframe thead tr th {\n",
       "        text-align: left;\n",
       "    }\n",
       "</style>\n",
       "<table border=\"1\" class=\"dataframe\">\n",
       "  <thead>\n",
       "    <tr>\n",
       "      <th>Price</th>\n",
       "      <th>Adj Close</th>\n",
       "      <th>Close</th>\n",
       "      <th>High</th>\n",
       "      <th>Low</th>\n",
       "      <th>Open</th>\n",
       "      <th>Volume</th>\n",
       "    </tr>\n",
       "    <tr>\n",
       "      <th>Ticker</th>\n",
       "      <th>GOOG</th>\n",
       "      <th>GOOG</th>\n",
       "      <th>GOOG</th>\n",
       "      <th>GOOG</th>\n",
       "      <th>GOOG</th>\n",
       "      <th>GOOG</th>\n",
       "    </tr>\n",
       "  </thead>\n",
       "  <tbody>\n",
       "    <tr>\n",
       "      <th>count</th>\n",
       "      <td>2517.000000</td>\n",
       "      <td>2517.000000</td>\n",
       "      <td>2517.000000</td>\n",
       "      <td>2517.000000</td>\n",
       "      <td>2517.000000</td>\n",
       "      <td>2.517000e+03</td>\n",
       "    </tr>\n",
       "    <tr>\n",
       "      <th>mean</th>\n",
       "      <td>81.586318</td>\n",
       "      <td>81.771113</td>\n",
       "      <td>82.595043</td>\n",
       "      <td>80.917988</td>\n",
       "      <td>81.722849</td>\n",
       "      <td>3.089738e+07</td>\n",
       "    </tr>\n",
       "    <tr>\n",
       "      <th>std</th>\n",
       "      <td>43.858261</td>\n",
       "      <td>43.934411</td>\n",
       "      <td>44.402820</td>\n",
       "      <td>43.478960</td>\n",
       "      <td>43.919911</td>\n",
       "      <td>1.543459e+07</td>\n",
       "    </tr>\n",
       "    <tr>\n",
       "      <th>min</th>\n",
       "      <td>24.499903</td>\n",
       "      <td>24.560070</td>\n",
       "      <td>24.730902</td>\n",
       "      <td>24.311253</td>\n",
       "      <td>24.664783</td>\n",
       "      <td>6.936000e+06</td>\n",
       "    </tr>\n",
       "    <tr>\n",
       "      <th>25%</th>\n",
       "      <td>46.142181</td>\n",
       "      <td>46.255501</td>\n",
       "      <td>46.541000</td>\n",
       "      <td>45.909500</td>\n",
       "      <td>46.265999</td>\n",
       "      <td>2.124400e+07</td>\n",
       "    </tr>\n",
       "    <tr>\n",
       "      <th>50%</th>\n",
       "      <td>63.175354</td>\n",
       "      <td>63.330502</td>\n",
       "      <td>64.023003</td>\n",
       "      <td>62.601501</td>\n",
       "      <td>63.250000</td>\n",
       "      <td>2.706600e+07</td>\n",
       "    </tr>\n",
       "    <tr>\n",
       "      <th>75%</th>\n",
       "      <td>119.795799</td>\n",
       "      <td>120.089996</td>\n",
       "      <td>121.269997</td>\n",
       "      <td>119.070000</td>\n",
       "      <td>120.089996</td>\n",
       "      <td>3.591460e+07</td>\n",
       "    </tr>\n",
       "    <tr>\n",
       "      <th>max</th>\n",
       "      <td>192.406723</td>\n",
       "      <td>192.660004</td>\n",
       "      <td>193.309998</td>\n",
       "      <td>190.619995</td>\n",
       "      <td>191.750000</td>\n",
       "      <td>2.232980e+08</td>\n",
       "    </tr>\n",
       "  </tbody>\n",
       "</table>\n",
       "</div>"
      ],
      "text/plain": [
       "Price     Adj Close        Close         High          Low         Open  \\\n",
       "Ticker         GOOG         GOOG         GOOG         GOOG         GOOG   \n",
       "count   2517.000000  2517.000000  2517.000000  2517.000000  2517.000000   \n",
       "mean      81.586318    81.771113    82.595043    80.917988    81.722849   \n",
       "std       43.858261    43.934411    44.402820    43.478960    43.919911   \n",
       "min       24.499903    24.560070    24.730902    24.311253    24.664783   \n",
       "25%       46.142181    46.255501    46.541000    45.909500    46.265999   \n",
       "50%       63.175354    63.330502    64.023003    62.601501    63.250000   \n",
       "75%      119.795799   120.089996   121.269997   119.070000   120.089996   \n",
       "max      192.406723   192.660004   193.309998   190.619995   191.750000   \n",
       "\n",
       "Price         Volume  \n",
       "Ticker          GOOG  \n",
       "count   2.517000e+03  \n",
       "mean    3.089738e+07  \n",
       "std     1.543459e+07  \n",
       "min     6.936000e+06  \n",
       "25%     2.124400e+07  \n",
       "50%     2.706600e+07  \n",
       "75%     3.591460e+07  \n",
       "max     2.232980e+08  "
      ]
     },
     "execution_count": 50,
     "metadata": {},
     "output_type": "execute_result"
    }
   ],
   "source": [
    "google_data.describe()"
   ]
  },
  {
   "cell_type": "code",
   "execution_count": 52,
   "id": "a1a95af5-9a1b-4db5-8974-797510e8cbfb",
   "metadata": {},
   "outputs": [
    {
     "name": "stdout",
     "output_type": "stream",
     "text": [
      "<class 'pandas.core.frame.DataFrame'>\n",
      "DatetimeIndex: 2517 entries, 2014-12-09 to 2024-12-09\n",
      "Data columns (total 6 columns):\n",
      " #   Column             Non-Null Count  Dtype  \n",
      "---  ------             --------------  -----  \n",
      " 0   (Adj Close, GOOG)  2517 non-null   float64\n",
      " 1   (Close, GOOG)      2517 non-null   float64\n",
      " 2   (High, GOOG)       2517 non-null   float64\n",
      " 3   (Low, GOOG)        2517 non-null   float64\n",
      " 4   (Open, GOOG)       2517 non-null   float64\n",
      " 5   (Volume, GOOG)     2517 non-null   int64  \n",
      "dtypes: float64(5), int64(1)\n",
      "memory usage: 137.6 KB\n"
     ]
    }
   ],
   "source": [
    "google_data.info()"
   ]
  },
  {
   "cell_type": "code",
   "execution_count": 54,
   "id": "c08ef473-4bbc-4dc7-bcec-8f251719e6e3",
   "metadata": {},
   "outputs": [
    {
     "data": {
      "text/plain": [
       "Price      Ticker\n",
       "Adj Close  GOOG      0\n",
       "Close      GOOG      0\n",
       "High       GOOG      0\n",
       "Low        GOOG      0\n",
       "Open       GOOG      0\n",
       "Volume     GOOG      0\n",
       "dtype: int64"
      ]
     },
     "execution_count": 54,
     "metadata": {},
     "output_type": "execute_result"
    }
   ],
   "source": [
    "google_data.isna().sum()"
   ]
  },
  {
   "cell_type": "code",
   "execution_count": 56,
   "id": "7c961a2b-7549-4cf3-9fc7-b5925ac89112",
   "metadata": {},
   "outputs": [],
   "source": [
    "import matplotlib.pyplot as plt\n",
    "%matplotlib inline"
   ]
  },
  {
   "cell_type": "code",
   "execution_count": 58,
   "id": "8db5cf03-2590-4b44-94a7-fb9b12d85c07",
   "metadata": {},
   "outputs": [
    {
     "data": {
      "text/plain": [
       "Text(0.5, 1.0, 'Closing price of Google data')"
      ]
     },
     "execution_count": 58,
     "metadata": {},
     "output_type": "execute_result"
    }
   ],
   "source": [
    "plt.figure(figsize = (15,5))\n",
    "google_data['Adj Close'].plot()\n",
    "plt.xlabel(\"years\")\n",
    "plt.ylabel(\"Adj Close\")\n",
    "plt.title(\"Closing price of Google data\")\n"
   ]
  },
  {
   "cell_type": "code",
   "execution_count": null,
   "id": "e4d32f23-dc69-42c1-af3d-021a2b59944f",
   "metadata": {},
   "outputs": [],
   "source": []
  },
  {
   "cell_type": "code",
   "execution_count": null,
   "id": "cf26bd1b-49e7-422f-a596-2ec7f2db8e56",
   "metadata": {},
   "outputs": [],
   "source": []
  },
  {
   "cell_type": "code",
   "execution_count": null,
   "id": "462752d5-21bb-4ca3-9c89-b6057dc8e836",
   "metadata": {},
   "outputs": [],
   "source": []
  },
  {
   "cell_type": "code",
   "execution_count": null,
   "id": "07d8df1b-b856-4b4b-89cd-2724311bd9fc",
   "metadata": {},
   "outputs": [],
   "source": []
  },
  {
   "cell_type": "code",
   "execution_count": null,
   "id": "b21c4e9c-248b-4662-b006-2930df8ae1e7",
   "metadata": {},
   "outputs": [],
   "source": []
  }
 ],
 "metadata": {
  "kernelspec": {
   "display_name": "Python 3 (ipykernel)",
   "language": "python",
   "name": "python3"
  },
  "language_info": {
   "codemirror_mode": {
    "name": "ipython",
    "version": 3
   },
   "file_extension": ".py",
   "mimetype": "text/x-python",
   "name": "python",
   "nbconvert_exporter": "python",
   "pygments_lexer": "ipython3",
   "version": "3.12.7"
  }
 },
 "nbformat": 4,
 "nbformat_minor": 5
}
