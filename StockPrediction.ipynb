{
 "cells": [
  {
   "cell_type": "code",
   "execution_count": null,
   "id": "27a4a3b8-845e-4f21-ae15-c4e1c8606fee",
   "metadata": {},
   "outputs": [],
   "source": [
    "import numpy as np\n",
    "import pandas as pd\n",
    "import matplotlib.pyplot as plt\n",
    "import pandas_datareader as data\n",
    "import yfinance as yf"
   ]
  },
  {
   "cell_type": "code",
   "execution_count": null,
   "id": "5f8827f1-d86a-444d-b234-382570aa56df",
   "metadata": {},
   "outputs": [],
   "source": [
    "apple = yf.Ticker('AAPL')\n",
    "\n",
    "historico_apple=apple.history(period=\"1y\")\n",
    "print(historico_apple)"
   ]
  },
  {
   "cell_type": "code",
   "execution_count": null,
   "id": "05751087-5877-4ed0-87c8-fb2372246b82",
   "metadata": {},
   "outputs": [],
   "source": [
    "historico_apple.tail()"
   ]
  },
  {
   "cell_type": "code",
   "execution_count": null,
   "id": "88c07422-770f-477c-8ef7-6013bb19b640",
   "metadata": {},
   "outputs": [],
   "source": [
    "historico_apple = historico_apple.reset_index()"
   ]
  },
  {
   "cell_type": "code",
   "execution_count": null,
   "id": "5a111359-b46a-449a-b46e-7fbd7fbc06c4",
   "metadata": {},
   "outputs": [],
   "source": [
    "historico_apple.head()"
   ]
  },
  {
   "cell_type": "code",
   "execution_count": null,
   "id": "cf364665-cc03-4061-8bfa-fc3a625d1ab3",
   "metadata": {},
   "outputs": [],
   "source": [
    "\n",
    "historico_apple = historico_apple.drop(['Date','Dividends','Stock Splits'],axis = 1)"
   ]
  },
  {
   "cell_type": "code",
   "execution_count": null,
   "id": "be5ed67c-0c67-45ee-9867-3b14926793ec",
   "metadata": {},
   "outputs": [],
   "source": [
    "print(historico_apple)"
   ]
  },
  {
   "cell_type": "code",
   "execution_count": null,
   "id": "ad53a1dd-e640-4b6c-8c52-ad776f7cb445",
   "metadata": {},
   "outputs": [],
   "source": [
    "historico_apple.head()"
   ]
  },
  {
   "cell_type": "code",
   "execution_count": null,
   "id": "77f289cb-1e73-4140-abcc-8949a1ee362f",
   "metadata": {},
   "outputs": [],
   "source": [
    "plt.plot(historico_apple.Close)"
   ]
  },
  {
   "cell_type": "code",
   "execution_count": null,
   "id": "11418d27-2a1a-49eb-b0c3-425767f7ede4",
   "metadata": {},
   "outputs": [],
   "source": []
  },
  {
   "cell_type": "code",
   "execution_count": null,
   "id": "bc95fb52-226c-4a1a-8fe9-33b8a1d03914",
   "metadata": {},
   "outputs": [],
   "source": []
  }
 ],
 "metadata": {
  "kernelspec": {
   "display_name": "Python 3 (ipykernel)",
   "language": "python",
   "name": "python3"
  },
  "language_info": {
   "codemirror_mode": {
    "name": "ipython",
    "version": 3
   },
   "file_extension": ".py",
   "mimetype": "text/x-python",
   "name": "python",
   "nbconvert_exporter": "python",
   "pygments_lexer": "ipython3",
   "version": "3.12.7"
  }
 },
 "nbformat": 4,
 "nbformat_minor": 5
}
