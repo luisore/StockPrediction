{
 "cells": [
  {
   "cell_type": "code",
   "execution_count": 172,
   "id": "27a4a3b8-845e-4f21-ae15-c4e1c8606fee",
   "metadata": {},
   "outputs": [],
   "source": [
    "import numpy as np\n",
    "import pandas as pd\n",
    "import matplotlib.pyplot as plt\n",
    "import pandas_datareader as data\n",
    "import yfinance as yf"
   ]
  },
  {
   "cell_type": "code",
   "execution_count": 174,
   "id": "5f8827f1-d86a-444d-b234-382570aa56df",
   "metadata": {},
   "outputs": [
    {
     "name": "stdout",
     "output_type": "stream",
     "text": [
      "                                 Open        High         Low       Close  \\\n",
      "Date                                                                        \n",
      "2014-12-08 00:00:00-05:00   25.409418   25.531900   24.857137   25.030838   \n",
      "2014-12-09 00:00:00-05:00   24.538692   25.453966   24.351628   25.413881   \n",
      "2014-12-10 00:00:00-05:00   25.478459   25.576444   24.839326   24.930630   \n",
      "2014-12-11 00:00:00-05:00   24.999666   25.342615   24.794786   24.857141   \n",
      "2014-12-12 00:00:00-05:00   24.598817   24.912816   24.402846   24.436251   \n",
      "...                               ...         ...         ...         ...   \n",
      "2024-12-02 00:00:00-05:00  237.270004  240.789993  237.160004  239.589996   \n",
      "2024-12-03 00:00:00-05:00  239.809998  242.759995  238.899994  242.649994   \n",
      "2024-12-04 00:00:00-05:00  242.869995  244.110001  241.250000  243.009995   \n",
      "2024-12-05 00:00:00-05:00  243.990005  244.539993  242.130005  243.039993   \n",
      "2024-12-06 00:00:00-05:00  242.910004  244.630005  242.080002  242.839996   \n",
      "\n",
      "                              Volume  Dividends  Stock Splits  \n",
      "Date                                                           \n",
      "2014-12-08 00:00:00-05:00  230659600        0.0           0.0  \n",
      "2014-12-09 00:00:00-05:00  240832000        0.0           0.0  \n",
      "2014-12-10 00:00:00-05:00  178261200        0.0           0.0  \n",
      "2014-12-11 00:00:00-05:00  165606800        0.0           0.0  \n",
      "2014-12-12 00:00:00-05:00  224112400        0.0           0.0  \n",
      "...                              ...        ...           ...  \n",
      "2024-12-02 00:00:00-05:00   48137100        0.0           0.0  \n",
      "2024-12-03 00:00:00-05:00   38861000        0.0           0.0  \n",
      "2024-12-04 00:00:00-05:00   44383900        0.0           0.0  \n",
      "2024-12-05 00:00:00-05:00   40033900        0.0           0.0  \n",
      "2024-12-06 00:00:00-05:00   36852100        0.0           0.0  \n",
      "\n",
      "[2517 rows x 7 columns]\n"
     ]
    }
   ],
   "source": [
    "apple = yf.Ticker('AAPL')\n",
    "\n",
    "df=apple.history(period=\"10y\")\n",
    "print(df)"
   ]
  },
  {
   "cell_type": "code",
   "execution_count": 176,
   "id": "05751087-5877-4ed0-87c8-fb2372246b82",
   "metadata": {},
   "outputs": [
    {
     "data": {
      "text/html": [
       "<div>\n",
       "<style scoped>\n",
       "    .dataframe tbody tr th:only-of-type {\n",
       "        vertical-align: middle;\n",
       "    }\n",
       "\n",
       "    .dataframe tbody tr th {\n",
       "        vertical-align: top;\n",
       "    }\n",
       "\n",
       "    .dataframe thead th {\n",
       "        text-align: right;\n",
       "    }\n",
       "</style>\n",
       "<table border=\"1\" class=\"dataframe\">\n",
       "  <thead>\n",
       "    <tr style=\"text-align: right;\">\n",
       "      <th></th>\n",
       "      <th>Open</th>\n",
       "      <th>High</th>\n",
       "      <th>Low</th>\n",
       "      <th>Close</th>\n",
       "      <th>Volume</th>\n",
       "      <th>Dividends</th>\n",
       "      <th>Stock Splits</th>\n",
       "    </tr>\n",
       "    <tr>\n",
       "      <th>Date</th>\n",
       "      <th></th>\n",
       "      <th></th>\n",
       "      <th></th>\n",
       "      <th></th>\n",
       "      <th></th>\n",
       "      <th></th>\n",
       "      <th></th>\n",
       "    </tr>\n",
       "  </thead>\n",
       "  <tbody>\n",
       "    <tr>\n",
       "      <th>2024-12-02 00:00:00-05:00</th>\n",
       "      <td>237.270004</td>\n",
       "      <td>240.789993</td>\n",
       "      <td>237.160004</td>\n",
       "      <td>239.589996</td>\n",
       "      <td>48137100</td>\n",
       "      <td>0.0</td>\n",
       "      <td>0.0</td>\n",
       "    </tr>\n",
       "    <tr>\n",
       "      <th>2024-12-03 00:00:00-05:00</th>\n",
       "      <td>239.809998</td>\n",
       "      <td>242.759995</td>\n",
       "      <td>238.899994</td>\n",
       "      <td>242.649994</td>\n",
       "      <td>38861000</td>\n",
       "      <td>0.0</td>\n",
       "      <td>0.0</td>\n",
       "    </tr>\n",
       "    <tr>\n",
       "      <th>2024-12-04 00:00:00-05:00</th>\n",
       "      <td>242.869995</td>\n",
       "      <td>244.110001</td>\n",
       "      <td>241.250000</td>\n",
       "      <td>243.009995</td>\n",
       "      <td>44383900</td>\n",
       "      <td>0.0</td>\n",
       "      <td>0.0</td>\n",
       "    </tr>\n",
       "    <tr>\n",
       "      <th>2024-12-05 00:00:00-05:00</th>\n",
       "      <td>243.990005</td>\n",
       "      <td>244.539993</td>\n",
       "      <td>242.130005</td>\n",
       "      <td>243.039993</td>\n",
       "      <td>40033900</td>\n",
       "      <td>0.0</td>\n",
       "      <td>0.0</td>\n",
       "    </tr>\n",
       "    <tr>\n",
       "      <th>2024-12-06 00:00:00-05:00</th>\n",
       "      <td>242.910004</td>\n",
       "      <td>244.630005</td>\n",
       "      <td>242.080002</td>\n",
       "      <td>242.839996</td>\n",
       "      <td>36852100</td>\n",
       "      <td>0.0</td>\n",
       "      <td>0.0</td>\n",
       "    </tr>\n",
       "  </tbody>\n",
       "</table>\n",
       "</div>"
      ],
      "text/plain": [
       "                                 Open        High         Low       Close  \\\n",
       "Date                                                                        \n",
       "2024-12-02 00:00:00-05:00  237.270004  240.789993  237.160004  239.589996   \n",
       "2024-12-03 00:00:00-05:00  239.809998  242.759995  238.899994  242.649994   \n",
       "2024-12-04 00:00:00-05:00  242.869995  244.110001  241.250000  243.009995   \n",
       "2024-12-05 00:00:00-05:00  243.990005  244.539993  242.130005  243.039993   \n",
       "2024-12-06 00:00:00-05:00  242.910004  244.630005  242.080002  242.839996   \n",
       "\n",
       "                             Volume  Dividends  Stock Splits  \n",
       "Date                                                          \n",
       "2024-12-02 00:00:00-05:00  48137100        0.0           0.0  \n",
       "2024-12-03 00:00:00-05:00  38861000        0.0           0.0  \n",
       "2024-12-04 00:00:00-05:00  44383900        0.0           0.0  \n",
       "2024-12-05 00:00:00-05:00  40033900        0.0           0.0  \n",
       "2024-12-06 00:00:00-05:00  36852100        0.0           0.0  "
      ]
     },
     "execution_count": 176,
     "metadata": {},
     "output_type": "execute_result"
    }
   ],
   "source": [
    "df.tail()"
   ]
  },
  {
   "cell_type": "code",
   "execution_count": 178,
   "id": "88c07422-770f-477c-8ef7-6013bb19b640",
   "metadata": {},
   "outputs": [],
   "source": [
    "df = df.reset_index()"
   ]
  },
  {
   "cell_type": "code",
   "execution_count": 180,
   "id": "5a111359-b46a-449a-b46e-7fbd7fbc06c4",
   "metadata": {},
   "outputs": [
    {
     "data": {
      "text/html": [
       "<div>\n",
       "<style scoped>\n",
       "    .dataframe tbody tr th:only-of-type {\n",
       "        vertical-align: middle;\n",
       "    }\n",
       "\n",
       "    .dataframe tbody tr th {\n",
       "        vertical-align: top;\n",
       "    }\n",
       "\n",
       "    .dataframe thead th {\n",
       "        text-align: right;\n",
       "    }\n",
       "</style>\n",
       "<table border=\"1\" class=\"dataframe\">\n",
       "  <thead>\n",
       "    <tr style=\"text-align: right;\">\n",
       "      <th></th>\n",
       "      <th>Date</th>\n",
       "      <th>Open</th>\n",
       "      <th>High</th>\n",
       "      <th>Low</th>\n",
       "      <th>Close</th>\n",
       "      <th>Volume</th>\n",
       "      <th>Dividends</th>\n",
       "      <th>Stock Splits</th>\n",
       "    </tr>\n",
       "  </thead>\n",
       "  <tbody>\n",
       "    <tr>\n",
       "      <th>0</th>\n",
       "      <td>2014-12-08 00:00:00-05:00</td>\n",
       "      <td>25.409418</td>\n",
       "      <td>25.531900</td>\n",
       "      <td>24.857137</td>\n",
       "      <td>25.030838</td>\n",
       "      <td>230659600</td>\n",
       "      <td>0.0</td>\n",
       "      <td>0.0</td>\n",
       "    </tr>\n",
       "    <tr>\n",
       "      <th>1</th>\n",
       "      <td>2014-12-09 00:00:00-05:00</td>\n",
       "      <td>24.538692</td>\n",
       "      <td>25.453966</td>\n",
       "      <td>24.351628</td>\n",
       "      <td>25.413881</td>\n",
       "      <td>240832000</td>\n",
       "      <td>0.0</td>\n",
       "      <td>0.0</td>\n",
       "    </tr>\n",
       "    <tr>\n",
       "      <th>2</th>\n",
       "      <td>2014-12-10 00:00:00-05:00</td>\n",
       "      <td>25.478459</td>\n",
       "      <td>25.576444</td>\n",
       "      <td>24.839326</td>\n",
       "      <td>24.930630</td>\n",
       "      <td>178261200</td>\n",
       "      <td>0.0</td>\n",
       "      <td>0.0</td>\n",
       "    </tr>\n",
       "    <tr>\n",
       "      <th>3</th>\n",
       "      <td>2014-12-11 00:00:00-05:00</td>\n",
       "      <td>24.999666</td>\n",
       "      <td>25.342615</td>\n",
       "      <td>24.794786</td>\n",
       "      <td>24.857141</td>\n",
       "      <td>165606800</td>\n",
       "      <td>0.0</td>\n",
       "      <td>0.0</td>\n",
       "    </tr>\n",
       "    <tr>\n",
       "      <th>4</th>\n",
       "      <td>2014-12-12 00:00:00-05:00</td>\n",
       "      <td>24.598817</td>\n",
       "      <td>24.912816</td>\n",
       "      <td>24.402846</td>\n",
       "      <td>24.436251</td>\n",
       "      <td>224112400</td>\n",
       "      <td>0.0</td>\n",
       "      <td>0.0</td>\n",
       "    </tr>\n",
       "  </tbody>\n",
       "</table>\n",
       "</div>"
      ],
      "text/plain": [
       "                       Date       Open       High        Low      Close  \\\n",
       "0 2014-12-08 00:00:00-05:00  25.409418  25.531900  24.857137  25.030838   \n",
       "1 2014-12-09 00:00:00-05:00  24.538692  25.453966  24.351628  25.413881   \n",
       "2 2014-12-10 00:00:00-05:00  25.478459  25.576444  24.839326  24.930630   \n",
       "3 2014-12-11 00:00:00-05:00  24.999666  25.342615  24.794786  24.857141   \n",
       "4 2014-12-12 00:00:00-05:00  24.598817  24.912816  24.402846  24.436251   \n",
       "\n",
       "      Volume  Dividends  Stock Splits  \n",
       "0  230659600        0.0           0.0  \n",
       "1  240832000        0.0           0.0  \n",
       "2  178261200        0.0           0.0  \n",
       "3  165606800        0.0           0.0  \n",
       "4  224112400        0.0           0.0  "
      ]
     },
     "execution_count": 180,
     "metadata": {},
     "output_type": "execute_result"
    }
   ],
   "source": [
    "df.head()"
   ]
  },
  {
   "cell_type": "code",
   "execution_count": 182,
   "id": "cf364665-cc03-4061-8bfa-fc3a625d1ab3",
   "metadata": {},
   "outputs": [],
   "source": [
    "\n",
    "df = df.drop(['Date','Dividends','Stock Splits'],axis = 1)"
   ]
  },
  {
   "cell_type": "code",
   "execution_count": 184,
   "id": "be5ed67c-0c67-45ee-9867-3b14926793ec",
   "metadata": {},
   "outputs": [
    {
     "name": "stdout",
     "output_type": "stream",
     "text": [
      "            Open        High         Low       Close     Volume\n",
      "0      25.409418   25.531900   24.857137   25.030838  230659600\n",
      "1      24.538692   25.453966   24.351628   25.413881  240832000\n",
      "2      25.478459   25.576444   24.839326   24.930630  178261200\n",
      "3      24.999666   25.342615   24.794786   24.857141  165606800\n",
      "4      24.598817   24.912816   24.402846   24.436251  224112400\n",
      "...          ...         ...         ...         ...        ...\n",
      "2512  237.270004  240.789993  237.160004  239.589996   48137100\n",
      "2513  239.809998  242.759995  238.899994  242.649994   38861000\n",
      "2514  242.869995  244.110001  241.250000  243.009995   44383900\n",
      "2515  243.990005  244.539993  242.130005  243.039993   40033900\n",
      "2516  242.910004  244.630005  242.080002  242.839996   36852100\n",
      "\n",
      "[2517 rows x 5 columns]\n"
     ]
    }
   ],
   "source": [
    "print(df)"
   ]
  },
  {
   "cell_type": "code",
   "execution_count": 186,
   "id": "ad53a1dd-e640-4b6c-8c52-ad776f7cb445",
   "metadata": {},
   "outputs": [
    {
     "data": {
      "text/html": [
       "<div>\n",
       "<style scoped>\n",
       "    .dataframe tbody tr th:only-of-type {\n",
       "        vertical-align: middle;\n",
       "    }\n",
       "\n",
       "    .dataframe tbody tr th {\n",
       "        vertical-align: top;\n",
       "    }\n",
       "\n",
       "    .dataframe thead th {\n",
       "        text-align: right;\n",
       "    }\n",
       "</style>\n",
       "<table border=\"1\" class=\"dataframe\">\n",
       "  <thead>\n",
       "    <tr style=\"text-align: right;\">\n",
       "      <th></th>\n",
       "      <th>Open</th>\n",
       "      <th>High</th>\n",
       "      <th>Low</th>\n",
       "      <th>Close</th>\n",
       "      <th>Volume</th>\n",
       "    </tr>\n",
       "  </thead>\n",
       "  <tbody>\n",
       "    <tr>\n",
       "      <th>0</th>\n",
       "      <td>25.409418</td>\n",
       "      <td>25.531900</td>\n",
       "      <td>24.857137</td>\n",
       "      <td>25.030838</td>\n",
       "      <td>230659600</td>\n",
       "    </tr>\n",
       "    <tr>\n",
       "      <th>1</th>\n",
       "      <td>24.538692</td>\n",
       "      <td>25.453966</td>\n",
       "      <td>24.351628</td>\n",
       "      <td>25.413881</td>\n",
       "      <td>240832000</td>\n",
       "    </tr>\n",
       "    <tr>\n",
       "      <th>2</th>\n",
       "      <td>25.478459</td>\n",
       "      <td>25.576444</td>\n",
       "      <td>24.839326</td>\n",
       "      <td>24.930630</td>\n",
       "      <td>178261200</td>\n",
       "    </tr>\n",
       "    <tr>\n",
       "      <th>3</th>\n",
       "      <td>24.999666</td>\n",
       "      <td>25.342615</td>\n",
       "      <td>24.794786</td>\n",
       "      <td>24.857141</td>\n",
       "      <td>165606800</td>\n",
       "    </tr>\n",
       "    <tr>\n",
       "      <th>4</th>\n",
       "      <td>24.598817</td>\n",
       "      <td>24.912816</td>\n",
       "      <td>24.402846</td>\n",
       "      <td>24.436251</td>\n",
       "      <td>224112400</td>\n",
       "    </tr>\n",
       "  </tbody>\n",
       "</table>\n",
       "</div>"
      ],
      "text/plain": [
       "        Open       High        Low      Close     Volume\n",
       "0  25.409418  25.531900  24.857137  25.030838  230659600\n",
       "1  24.538692  25.453966  24.351628  25.413881  240832000\n",
       "2  25.478459  25.576444  24.839326  24.930630  178261200\n",
       "3  24.999666  25.342615  24.794786  24.857141  165606800\n",
       "4  24.598817  24.912816  24.402846  24.436251  224112400"
      ]
     },
     "execution_count": 186,
     "metadata": {},
     "output_type": "execute_result"
    }
   ],
   "source": [
    "df.head()"
   ]
  },
  {
   "cell_type": "code",
   "execution_count": 188,
   "id": "77f289cb-1e73-4140-abcc-8949a1ee362f",
   "metadata": {},
   "outputs": [
    {
     "data": {
      "text/plain": [
       "[<matplotlib.lines.Line2D at 0x1bf4e1ed7f0>]"
      ]
     },
     "execution_count": 188,
     "metadata": {},
     "output_type": "execute_result"
    },
    {
     "data": {
      "image/png": "[encoded data removed]",
      "text/plain": [
       "<Figure size 640x480 with 1 Axes>"
      ]
     },
     "metadata": {},
     "output_type": "display_data"
    }
   ],
   "source": [
    "plt.plot(df.Close)"
   ]
  },
  {
   "cell_type": "code",
   "execution_count": 189,
   "id": "11418d27-2a1a-49eb-b0c3-425767f7ede4",
   "metadata": {},
   "outputs": [
    {
     "data": {
      "text/html": [
       "<div>\n",
       "<style scoped>\n",
       "    .dataframe tbody tr th:only-of-type {\n",
       "        vertical-align: middle;\n",
       "    }\n",
       "\n",
       "    .dataframe tbody tr th {\n",
       "        vertical-align: top;\n",
       "    }\n",
       "\n",
       "    .dataframe thead th {\n",
       "        text-align: right;\n",
       "    }\n",
       "</style>\n",
       "<table border=\"1\" class=\"dataframe\">\n",
       "  <thead>\n",
       "    <tr style=\"text-align: right;\">\n",
       "      <th></th>\n",
       "      <th>Open</th>\n",
       "      <th>High</th>\n",
       "      <th>Low</th>\n",
       "      <th>Close</th>\n",
       "      <th>Volume</th>\n",
       "    </tr>\n",
       "  </thead>\n",
       "  <tbody>\n",
       "    <tr>\n",
       "      <th>0</th>\n",
       "      <td>25.409418</td>\n",
       "      <td>25.531900</td>\n",
       "      <td>24.857137</td>\n",
       "      <td>25.030838</td>\n",
       "      <td>230659600</td>\n",
       "    </tr>\n",
       "    <tr>\n",
       "      <th>1</th>\n",
       "      <td>24.538692</td>\n",
       "      <td>25.453966</td>\n",
       "      <td>24.351628</td>\n",
       "      <td>25.413881</td>\n",
       "      <td>240832000</td>\n",
       "    </tr>\n",
       "    <tr>\n",
       "      <th>2</th>\n",
       "      <td>25.478459</td>\n",
       "      <td>25.576444</td>\n",
       "      <td>24.839326</td>\n",
       "      <td>24.930630</td>\n",
       "      <td>178261200</td>\n",
       "    </tr>\n",
       "    <tr>\n",
       "      <th>3</th>\n",
       "      <td>24.999666</td>\n",
       "      <td>25.342615</td>\n",
       "      <td>24.794786</td>\n",
       "      <td>24.857141</td>\n",
       "      <td>165606800</td>\n",
       "    </tr>\n",
       "    <tr>\n",
       "      <th>4</th>\n",
       "      <td>24.598817</td>\n",
       "      <td>24.912816</td>\n",
       "      <td>24.402846</td>\n",
       "      <td>24.436251</td>\n",
       "      <td>224112400</td>\n",
       "    </tr>\n",
       "    <tr>\n",
       "      <th>...</th>\n",
       "      <td>...</td>\n",
       "      <td>...</td>\n",
       "      <td>...</td>\n",
       "      <td>...</td>\n",
       "      <td>...</td>\n",
       "    </tr>\n",
       "    <tr>\n",
       "      <th>2512</th>\n",
       "      <td>237.270004</td>\n",
       "      <td>240.789993</td>\n",
       "      <td>237.160004</td>\n",
       "      <td>239.589996</td>\n",
       "      <td>48137100</td>\n",
       "    </tr>\n",
       "    <tr>\n",
       "      <th>2513</th>\n",
       "      <td>239.809998</td>\n",
       "      <td>242.759995</td>\n",
       "      <td>238.899994</td>\n",
       "      <td>242.649994</td>\n",
       "      <td>38861000</td>\n",
       "    </tr>\n",
       "    <tr>\n",
       "      <th>2514</th>\n",
       "      <td>242.869995</td>\n",
       "      <td>244.110001</td>\n",
       "      <td>241.250000</td>\n",
       "      <td>243.009995</td>\n",
       "      <td>44383900</td>\n",
       "    </tr>\n",
       "    <tr>\n",
       "      <th>2515</th>\n",
       "      <td>243.990005</td>\n",
       "      <td>244.539993</td>\n",
       "      <td>242.130005</td>\n",
       "      <td>243.039993</td>\n",
       "      <td>40033900</td>\n",
       "    </tr>\n",
       "    <tr>\n",
       "      <th>2516</th>\n",
       "      <td>242.910004</td>\n",
       "      <td>244.630005</td>\n",
       "      <td>242.080002</td>\n",
       "      <td>242.839996</td>\n",
       "      <td>36852100</td>\n",
       "    </tr>\n",
       "  </tbody>\n",
       "</table>\n",
       "<p>2517 rows × 5 columns</p>\n",
       "</div>"
      ],
      "text/plain": [
       "            Open        High         Low       Close     Volume\n",
       "0      25.409418   25.531900   24.857137   25.030838  230659600\n",
       "1      24.538692   25.453966   24.351628   25.413881  240832000\n",
       "2      25.478459   25.576444   24.839326   24.930630  178261200\n",
       "3      24.999666   25.342615   24.794786   24.857141  165606800\n",
       "4      24.598817   24.912816   24.402846   24.436251  224112400\n",
       "...          ...         ...         ...         ...        ...\n",
       "2512  237.270004  240.789993  237.160004  239.589996   48137100\n",
       "2513  239.809998  242.759995  238.899994  242.649994   38861000\n",
       "2514  242.869995  244.110001  241.250000  243.009995   44383900\n",
       "2515  243.990005  244.539993  242.130005  243.039993   40033900\n",
       "2516  242.910004  244.630005  242.080002  242.839996   36852100\n",
       "\n",
       "[2517 rows x 5 columns]"
      ]
     },
     "execution_count": 189,
     "metadata": {},
     "output_type": "execute_result"
    }
   ],
   "source": [
    "df"
   ]
  },
  {
   "cell_type": "code",
   "execution_count": 192,
   "id": "bc95fb52-226c-4a1a-8fe9-33b8a1d03914",
   "metadata": {},
   "outputs": [
    {
     "data": {
      "text/plain": [
       "0              NaN\n",
       "1              NaN\n",
       "2              NaN\n",
       "3              NaN\n",
       "4              NaN\n",
       "           ...    \n",
       "2512    225.513779\n",
       "2513    225.640075\n",
       "2514    225.731458\n",
       "2515    225.818951\n",
       "2516    225.963709\n",
       "Name: Close, Length: 2517, dtype: float64"
      ]
     },
     "execution_count": 192,
     "metadata": {},
     "output_type": "execute_result"
    }
   ],
   "source": [
    "ma100 = df.Close.rolling(100).mean()\n",
    "ma100"
   ]
  },
  {
   "cell_type": "code",
   "execution_count": 194,
   "id": "2a37e515-2afb-4f96-8085-a0cdeb2ae67e",
   "metadata": {},
   "outputs": [
    {
     "data": {
      "text/plain": [
       "[<matplotlib.lines.Line2D at 0x1bf4e2472f0>]"
      ]
     },
     "execution_count": 194,
     "metadata": {},
     "output_type": "execute_result"
    },
    {
     "data": {
      "image/png": "[encoded data removed]",
      "text/plain": [
       "<Figure size 1200x600 with 1 Axes>"
      ]
     },
     "metadata": {},
     "output_type": "display_data"
    }
   ],
   "source": [
    "plt.figure(figsize = (12,6))\n",
    "plt.plot(df.Close)\n",
    "plt.plot(ma100,'r')"
   ]
  },
  {
   "cell_type": "code",
   "execution_count": 195,
   "id": "c502f195-bc46-4588-928e-21142d18fd89",
   "metadata": {},
   "outputs": [
    {
     "data": {
      "text/plain": [
       "0              NaN\n",
       "1              NaN\n",
       "2              NaN\n",
       "3              NaN\n",
       "4              NaN\n",
       "           ...    \n",
       "2512    205.696266\n",
       "2513    206.001253\n",
       "2514    206.311776\n",
       "2515    206.618662\n",
       "2516    206.914336\n",
       "Name: Close, Length: 2517, dtype: float64"
      ]
     },
     "execution_count": 195,
     "metadata": {},
     "output_type": "execute_result"
    }
   ],
   "source": [
    "ma200 = df.Close.rolling(200).mean()\n",
    "ma200"
   ]
  },
  {
   "cell_type": "code",
   "execution_count": 198,
   "id": "5ea7e67c-7613-4bd8-b978-d21b7c33c4ee",
   "metadata": {},
   "outputs": [
    {
     "data": {
      "text/plain": [
       "[<matplotlib.lines.Line2D at 0x1bf4e2f0710>]"
      ]
     },
     "execution_count": 198,
     "metadata": {},
     "output_type": "execute_result"
    },
    {
     "data": {
      "image/png": "[encoded data removed]",
      "text/plain": [
       "<Figure size 1200x600 with 1 Axes>"
      ]
     },
     "metadata": {},
     "output_type": "display_data"
    }
   ],
   "source": [
    "plt.figure(figsize = (12,6))\n",
    "plt.plot(df.Close)\n",
    "plt.plot(ma100,'r')\n",
    "plt.plot(ma200,'g')"
   ]
  },
  {
   "cell_type": "code",
   "execution_count": 199,
   "id": "1aa08811-91e0-40e9-afc5-71bc7baee3fd",
   "metadata": {},
   "outputs": [
    {
     "data": {
      "text/plain": [
       "(2517, 5)"
      ]
     },
     "execution_count": 199,
     "metadata": {},
     "output_type": "execute_result"
    }
   ],
   "source": [
    "df.shape\n",
    "(2517,5)"
   ]
  },
  {
   "cell_type": "code",
   "execution_count": 202,
   "id": "527f8057-c032-49f7-bdd2-4698b63623c6",
   "metadata": {},
   "outputs": [
    {
     "name": "stdout",
     "output_type": "stream",
     "text": [
      "(1761, 1)\n",
      "(756, 1)\n"
     ]
    }
   ],
   "source": [
    "#Splitting data into training and Testing\n",
    "\n",
    "data_training = pd.DataFrame(df['Close'][0:int(len(df)*0.70)])\n",
    "data_testing = pd.DataFrame(df['Close'][int(len(df)*0.70):int(len(df))])\n",
    "\n",
    "print(data_training.shape)\n",
    "print(data_testing.shape)"
   ]
  },
  {
   "cell_type": "code",
   "execution_count": 204,
   "id": "f10ee57f-390a-4447-bb10-215ccbef45ed",
   "metadata": {},
   "outputs": [
    {
     "data": {
      "text/html": [
       "<div>\n",
       "<style scoped>\n",
       "    .dataframe tbody tr th:only-of-type {\n",
       "        vertical-align: middle;\n",
       "    }\n",
       "\n",
       "    .dataframe tbody tr th {\n",
       "        vertical-align: top;\n",
       "    }\n",
       "\n",
       "    .dataframe thead th {\n",
       "        text-align: right;\n",
       "    }\n",
       "</style>\n",
       "<table border=\"1\" class=\"dataframe\">\n",
       "  <thead>\n",
       "    <tr style=\"text-align: right;\">\n",
       "      <th></th>\n",
       "      <th>Close</th>\n",
       "    </tr>\n",
       "  </thead>\n",
       "  <tbody>\n",
       "    <tr>\n",
       "      <th>0</th>\n",
       "      <td>25.030838</td>\n",
       "    </tr>\n",
       "    <tr>\n",
       "      <th>1</th>\n",
       "      <td>25.413881</td>\n",
       "    </tr>\n",
       "    <tr>\n",
       "      <th>2</th>\n",
       "      <td>24.930630</td>\n",
       "    </tr>\n",
       "    <tr>\n",
       "      <th>3</th>\n",
       "      <td>24.857141</td>\n",
       "    </tr>\n",
       "    <tr>\n",
       "      <th>4</th>\n",
       "      <td>24.436251</td>\n",
       "    </tr>\n",
       "  </tbody>\n",
       "</table>\n",
       "</div>"
      ],
      "text/plain": [
       "       Close\n",
       "0  25.030838\n",
       "1  25.413881\n",
       "2  24.930630\n",
       "3  24.857141\n",
       "4  24.436251"
      ]
     },
     "execution_count": 204,
     "metadata": {},
     "output_type": "execute_result"
    }
   ],
   "source": [
    "data_training.head()"
   ]
  },
  {
   "cell_type": "code",
   "execution_count": 206,
   "id": "843733b7-d77f-4860-bf2e-a95e86218db8",
   "metadata": {},
   "outputs": [
    {
     "data": {
      "text/html": [
       "<div>\n",
       "<style scoped>\n",
       "    .dataframe tbody tr th:only-of-type {\n",
       "        vertical-align: middle;\n",
       "    }\n",
       "\n",
       "    .dataframe tbody tr th {\n",
       "        vertical-align: top;\n",
       "    }\n",
       "\n",
       "    .dataframe thead th {\n",
       "        text-align: right;\n",
       "    }\n",
       "</style>\n",
       "<table border=\"1\" class=\"dataframe\">\n",
       "  <thead>\n",
       "    <tr style=\"text-align: right;\">\n",
       "      <th></th>\n",
       "      <th>Close</th>\n",
       "    </tr>\n",
       "  </thead>\n",
       "  <tbody>\n",
       "    <tr>\n",
       "      <th>1761</th>\n",
       "      <td>162.655594</td>\n",
       "    </tr>\n",
       "    <tr>\n",
       "      <th>1762</th>\n",
       "      <td>168.421143</td>\n",
       "    </tr>\n",
       "    <tr>\n",
       "      <th>1763</th>\n",
       "      <td>172.258301</td>\n",
       "    </tr>\n",
       "    <tr>\n",
       "      <th>1764</th>\n",
       "      <td>171.746643</td>\n",
       "    </tr>\n",
       "    <tr>\n",
       "      <th>1765</th>\n",
       "      <td>176.557846</td>\n",
       "    </tr>\n",
       "  </tbody>\n",
       "</table>\n",
       "</div>"
      ],
      "text/plain": [
       "           Close\n",
       "1761  162.655594\n",
       "1762  168.421143\n",
       "1763  172.258301\n",
       "1764  171.746643\n",
       "1765  176.557846"
      ]
     },
     "execution_count": 206,
     "metadata": {},
     "output_type": "execute_result"
    }
   ],
   "source": [
    "data_testing.head()"
   ]
  },
  {
   "cell_type": "code",
   "execution_count": 214,
   "id": "5e37859c-4cf4-4938-8792-60b776dedab9",
   "metadata": {},
   "outputs": [],
   "source": [
    "from sklearn.preprocessing import MinMaxScaler\n",
    "scaler = MinMaxScaler(feature_range=(0,1))"
   ]
  },
  {
   "cell_type": "code",
   "execution_count": 216,
   "id": "21224f89-e0cc-4fb5-9ef7-04c948f38889",
   "metadata": {},
   "outputs": [
    {
     "data": {
      "text/plain": [
       "array([[0.03053134],\n",
       "       [0.03322999],\n",
       "       [0.02982534],\n",
       "       ...,\n",
       "       [0.99632642],\n",
       "       [0.9893253 ],\n",
       "       [0.97601625]])"
      ]
     },
     "execution_count": 216,
     "metadata": {},
     "output_type": "execute_result"
    }
   ],
   "source": [
    "data_training_array = scaler.fit_transform(data_training)\n",
    "data_training_array"
   ]
  },
  {
   "cell_type": "code",
   "execution_count": null,
   "id": "fc8c65e2-e7f9-4a46-8530-da6ffd984f3f",
   "metadata": {},
   "outputs": [],
   "source": []
  },
  {
   "cell_type": "code",
   "execution_count": null,
   "id": "39b6adb2-14ac-4b2b-a936-68f08be09ae1",
   "metadata": {},
   "outputs": [],
   "source": []
  }
 ],
 "metadata": {
  "kernelspec": {
   "display_name": "Python 3 (ipykernel)",
   "language": "python",
   "name": "python3"
  },
  "language_info": {
   "codemirror_mode": {
    "name": "ipython",
    "version": 3
   },
   "file_extension": ".py",
   "mimetype": "text/x-python",
   "name": "python",
   "nbconvert_exporter": "python",
   "pygments_lexer": "ipython3",
   "version": "3.12.7"
  }
 },
 "nbformat": 4,
 "nbformat_minor": 5
}
