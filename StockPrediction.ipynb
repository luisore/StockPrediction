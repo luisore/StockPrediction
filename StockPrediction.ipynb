{
 "cells": [
  {
   "cell_type": "code",
   "execution_count": 1,
   "id": "27a4a3b8-845e-4f21-ae15-c4e1c8606fee",
   "metadata": {},
   "outputs": [],
   "source": [
    "import numpy as np\n",
    "import pandas as pd\n",
    "import matplotlib.pyplot as plt\n",
    "import pandas_datareader as data\n",
    "import yfinance as yf"
   ]
  },
  {
   "cell_type": "code",
   "execution_count": 17,
   "id": "5f8827f1-d86a-444d-b234-382570aa56df",
   "metadata": {},
   "outputs": [
    {
     "name": "stdout",
     "output_type": "stream",
     "text": [
      "                                 Open        High         Low       Close  \\\n",
      "Date                                                                        \n",
      "2023-12-07 00:00:00-05:00  192.686042  194.049359  192.646229  193.322922   \n",
      "2023-12-08 00:00:00-05:00  193.253227  195.034508  192.725812  194.755875   \n",
      "2023-12-11 00:00:00-05:00  192.168554  192.546706  190.486791  192.238205   \n",
      "2023-12-12 00:00:00-05:00  192.138714  193.770718  190.785344  193.760773   \n",
      "2023-12-13 00:00:00-05:00  194.138900  197.034717  193.900080  196.994919   \n",
      "...                               ...         ...         ...         ...   \n",
      "2024-12-02 00:00:00-05:00  237.270004  240.789993  237.160004  239.589996   \n",
      "2024-12-03 00:00:00-05:00  239.809998  242.759995  238.899994  242.649994   \n",
      "2024-12-04 00:00:00-05:00  242.869995  244.110001  241.250000  243.009995   \n",
      "2024-12-05 00:00:00-05:00  243.990005  244.539993  242.130005  243.039993   \n",
      "2024-12-06 00:00:00-05:00  242.910004  244.630005  242.080002  242.839996   \n",
      "\n",
      "                             Volume  Dividends  Stock Splits  \n",
      "Date                                                          \n",
      "2023-12-07 00:00:00-05:00  47477700        0.0           0.0  \n",
      "2023-12-08 00:00:00-05:00  53377300        0.0           0.0  \n",
      "2023-12-11 00:00:00-05:00  60943700        0.0           0.0  \n",
      "2023-12-12 00:00:00-05:00  52696900        0.0           0.0  \n",
      "2023-12-13 00:00:00-05:00  70404200        0.0           0.0  \n",
      "...                             ...        ...           ...  \n",
      "2024-12-02 00:00:00-05:00  48137100        0.0           0.0  \n",
      "2024-12-03 00:00:00-05:00  38861000        0.0           0.0  \n",
      "2024-12-04 00:00:00-05:00  44383900        0.0           0.0  \n",
      "2024-12-05 00:00:00-05:00  40033900        0.0           0.0  \n",
      "2024-12-06 00:00:00-05:00  36852100        0.0           0.0  \n",
      "\n",
      "[252 rows x 7 columns]\n"
     ]
    }
   ],
   "source": [
    "apple = yf.Ticker('AAPL')\n",
    "\n",
    "historico_apple=apple.history(period=\"1y\")\n",
    "print(historico_apple)"
   ]
  },
  {
   "cell_type": "code",
   "execution_count": 19,
   "id": "05751087-5877-4ed0-87c8-fb2372246b82",
   "metadata": {},
   "outputs": [
    {
     "data": {
      "text/html": [
       "<div>\n",
       "<style scoped>\n",
       "    .dataframe tbody tr th:only-of-type {\n",
       "        vertical-align: middle;\n",
       "    }\n",
       "\n",
       "    .dataframe tbody tr th {\n",
       "        vertical-align: top;\n",
       "    }\n",
       "\n",
       "    .dataframe thead th {\n",
       "        text-align: right;\n",
       "    }\n",
       "</style>\n",
       "<table border=\"1\" class=\"dataframe\">\n",
       "  <thead>\n",
       "    <tr style=\"text-align: right;\">\n",
       "      <th></th>\n",
       "      <th>Open</th>\n",
       "      <th>High</th>\n",
       "      <th>Low</th>\n",
       "      <th>Close</th>\n",
       "      <th>Volume</th>\n",
       "      <th>Dividends</th>\n",
       "      <th>Stock Splits</th>\n",
       "    </tr>\n",
       "    <tr>\n",
       "      <th>Date</th>\n",
       "      <th></th>\n",
       "      <th></th>\n",
       "      <th></th>\n",
       "      <th></th>\n",
       "      <th></th>\n",
       "      <th></th>\n",
       "      <th></th>\n",
       "    </tr>\n",
       "  </thead>\n",
       "  <tbody>\n",
       "    <tr>\n",
       "      <th>2024-12-02 00:00:00-05:00</th>\n",
       "      <td>237.270004</td>\n",
       "      <td>240.789993</td>\n",
       "      <td>237.160004</td>\n",
       "      <td>239.589996</td>\n",
       "      <td>48137100</td>\n",
       "      <td>0.0</td>\n",
       "      <td>0.0</td>\n",
       "    </tr>\n",
       "    <tr>\n",
       "      <th>2024-12-03 00:00:00-05:00</th>\n",
       "      <td>239.809998</td>\n",
       "      <td>242.759995</td>\n",
       "      <td>238.899994</td>\n",
       "      <td>242.649994</td>\n",
       "      <td>38861000</td>\n",
       "      <td>0.0</td>\n",
       "      <td>0.0</td>\n",
       "    </tr>\n",
       "    <tr>\n",
       "      <th>2024-12-04 00:00:00-05:00</th>\n",
       "      <td>242.869995</td>\n",
       "      <td>244.110001</td>\n",
       "      <td>241.250000</td>\n",
       "      <td>243.009995</td>\n",
       "      <td>44383900</td>\n",
       "      <td>0.0</td>\n",
       "      <td>0.0</td>\n",
       "    </tr>\n",
       "    <tr>\n",
       "      <th>2024-12-05 00:00:00-05:00</th>\n",
       "      <td>243.990005</td>\n",
       "      <td>244.539993</td>\n",
       "      <td>242.130005</td>\n",
       "      <td>243.039993</td>\n",
       "      <td>40033900</td>\n",
       "      <td>0.0</td>\n",
       "      <td>0.0</td>\n",
       "    </tr>\n",
       "    <tr>\n",
       "      <th>2024-12-06 00:00:00-05:00</th>\n",
       "      <td>242.910004</td>\n",
       "      <td>244.630005</td>\n",
       "      <td>242.080002</td>\n",
       "      <td>242.839996</td>\n",
       "      <td>36852100</td>\n",
       "      <td>0.0</td>\n",
       "      <td>0.0</td>\n",
       "    </tr>\n",
       "  </tbody>\n",
       "</table>\n",
       "</div>"
      ],
      "text/plain": [
       "                                 Open        High         Low       Close  \\\n",
       "Date                                                                        \n",
       "2024-12-02 00:00:00-05:00  237.270004  240.789993  237.160004  239.589996   \n",
       "2024-12-03 00:00:00-05:00  239.809998  242.759995  238.899994  242.649994   \n",
       "2024-12-04 00:00:00-05:00  242.869995  244.110001  241.250000  243.009995   \n",
       "2024-12-05 00:00:00-05:00  243.990005  244.539993  242.130005  243.039993   \n",
       "2024-12-06 00:00:00-05:00  242.910004  244.630005  242.080002  242.839996   \n",
       "\n",
       "                             Volume  Dividends  Stock Splits  \n",
       "Date                                                          \n",
       "2024-12-02 00:00:00-05:00  48137100        0.0           0.0  \n",
       "2024-12-03 00:00:00-05:00  38861000        0.0           0.0  \n",
       "2024-12-04 00:00:00-05:00  44383900        0.0           0.0  \n",
       "2024-12-05 00:00:00-05:00  40033900        0.0           0.0  \n",
       "2024-12-06 00:00:00-05:00  36852100        0.0           0.0  "
      ]
     },
     "execution_count": 19,
     "metadata": {},
     "output_type": "execute_result"
    }
   ],
   "source": [
    "historico_apple.tail()"
   ]
  },
  {
   "cell_type": "code",
   "execution_count": 21,
   "id": "88c07422-770f-477c-8ef7-6013bb19b640",
   "metadata": {},
   "outputs": [],
   "source": [
    "historico_apple = historico_apple.reset_index()"
   ]
  },
  {
   "cell_type": "code",
   "execution_count": 23,
   "id": "5a111359-b46a-449a-b46e-7fbd7fbc06c4",
   "metadata": {},
   "outputs": [
    {
     "data": {
      "text/html": [
       "<div>\n",
       "<style scoped>\n",
       "    .dataframe tbody tr th:only-of-type {\n",
       "        vertical-align: middle;\n",
       "    }\n",
       "\n",
       "    .dataframe tbody tr th {\n",
       "        vertical-align: top;\n",
       "    }\n",
       "\n",
       "    .dataframe thead th {\n",
       "        text-align: right;\n",
       "    }\n",
       "</style>\n",
       "<table border=\"1\" class=\"dataframe\">\n",
       "  <thead>\n",
       "    <tr style=\"text-align: right;\">\n",
       "      <th></th>\n",
       "      <th>Date</th>\n",
       "      <th>Open</th>\n",
       "      <th>High</th>\n",
       "      <th>Low</th>\n",
       "      <th>Close</th>\n",
       "      <th>Volume</th>\n",
       "      <th>Dividends</th>\n",
       "      <th>Stock Splits</th>\n",
       "    </tr>\n",
       "  </thead>\n",
       "  <tbody>\n",
       "    <tr>\n",
       "      <th>0</th>\n",
       "      <td>2023-12-07 00:00:00-05:00</td>\n",
       "      <td>192.686042</td>\n",
       "      <td>194.049359</td>\n",
       "      <td>192.646229</td>\n",
       "      <td>193.322922</td>\n",
       "      <td>47477700</td>\n",
       "      <td>0.0</td>\n",
       "      <td>0.0</td>\n",
       "    </tr>\n",
       "    <tr>\n",
       "      <th>1</th>\n",
       "      <td>2023-12-08 00:00:00-05:00</td>\n",
       "      <td>193.253227</td>\n",
       "      <td>195.034508</td>\n",
       "      <td>192.725812</td>\n",
       "      <td>194.755875</td>\n",
       "      <td>53377300</td>\n",
       "      <td>0.0</td>\n",
       "      <td>0.0</td>\n",
       "    </tr>\n",
       "    <tr>\n",
       "      <th>2</th>\n",
       "      <td>2023-12-11 00:00:00-05:00</td>\n",
       "      <td>192.168554</td>\n",
       "      <td>192.546706</td>\n",
       "      <td>190.486791</td>\n",
       "      <td>192.238205</td>\n",
       "      <td>60943700</td>\n",
       "      <td>0.0</td>\n",
       "      <td>0.0</td>\n",
       "    </tr>\n",
       "    <tr>\n",
       "      <th>3</th>\n",
       "      <td>2023-12-12 00:00:00-05:00</td>\n",
       "      <td>192.138714</td>\n",
       "      <td>193.770718</td>\n",
       "      <td>190.785344</td>\n",
       "      <td>193.760773</td>\n",
       "      <td>52696900</td>\n",
       "      <td>0.0</td>\n",
       "      <td>0.0</td>\n",
       "    </tr>\n",
       "    <tr>\n",
       "      <th>4</th>\n",
       "      <td>2023-12-13 00:00:00-05:00</td>\n",
       "      <td>194.138900</td>\n",
       "      <td>197.034717</td>\n",
       "      <td>193.900080</td>\n",
       "      <td>196.994919</td>\n",
       "      <td>70404200</td>\n",
       "      <td>0.0</td>\n",
       "      <td>0.0</td>\n",
       "    </tr>\n",
       "  </tbody>\n",
       "</table>\n",
       "</div>"
      ],
      "text/plain": [
       "                       Date        Open        High         Low       Close  \\\n",
       "0 2023-12-07 00:00:00-05:00  192.686042  194.049359  192.646229  193.322922   \n",
       "1 2023-12-08 00:00:00-05:00  193.253227  195.034508  192.725812  194.755875   \n",
       "2 2023-12-11 00:00:00-05:00  192.168554  192.546706  190.486791  192.238205   \n",
       "3 2023-12-12 00:00:00-05:00  192.138714  193.770718  190.785344  193.760773   \n",
       "4 2023-12-13 00:00:00-05:00  194.138900  197.034717  193.900080  196.994919   \n",
       "\n",
       "     Volume  Dividends  Stock Splits  \n",
       "0  47477700        0.0           0.0  \n",
       "1  53377300        0.0           0.0  \n",
       "2  60943700        0.0           0.0  \n",
       "3  52696900        0.0           0.0  \n",
       "4  70404200        0.0           0.0  "
      ]
     },
     "execution_count": 23,
     "metadata": {},
     "output_type": "execute_result"
    }
   ],
   "source": [
    "historico_apple.head()"
   ]
  },
  {
   "cell_type": "code",
   "execution_count": 27,
   "id": "cf364665-cc03-4061-8bfa-fc3a625d1ab3",
   "metadata": {},
   "outputs": [],
   "source": [
    "\n",
    "historico_apple = historico_apple.drop(['Date','Dividends','Stock Splits'],axis = 1)"
   ]
  },
  {
   "cell_type": "code",
   "execution_count": 29,
   "id": "be5ed67c-0c67-45ee-9867-3b14926793ec",
   "metadata": {},
   "outputs": [
    {
     "name": "stdout",
     "output_type": "stream",
     "text": [
      "           Open        High         Low       Close    Volume\n",
      "0    192.686042  194.049359  192.646229  193.322922  47477700\n",
      "1    193.253227  195.034508  192.725812  194.755875  53377300\n",
      "2    192.168554  192.546706  190.486791  192.238205  60943700\n",
      "3    192.138714  193.770718  190.785344  193.760773  52696900\n",
      "4    194.138900  197.034717  193.900080  196.994919  70404200\n",
      "..          ...         ...         ...         ...       ...\n",
      "247  237.270004  240.789993  237.160004  239.589996  48137100\n",
      "248  239.809998  242.759995  238.899994  242.649994  38861000\n",
      "249  242.869995  244.110001  241.250000  243.009995  44383900\n",
      "250  243.990005  244.539993  242.130005  243.039993  40033900\n",
      "251  242.910004  244.630005  242.080002  242.839996  36852100\n",
      "\n",
      "[252 rows x 5 columns]\n"
     ]
    }
   ],
   "source": [
    "print(historico_apple)"
   ]
  },
  {
   "cell_type": "code",
   "execution_count": 31,
   "id": "ad53a1dd-e640-4b6c-8c52-ad776f7cb445",
   "metadata": {},
   "outputs": [
    {
     "data": {
      "text/html": [
       "<div>\n",
       "<style scoped>\n",
       "    .dataframe tbody tr th:only-of-type {\n",
       "        vertical-align: middle;\n",
       "    }\n",
       "\n",
       "    .dataframe tbody tr th {\n",
       "        vertical-align: top;\n",
       "    }\n",
       "\n",
       "    .dataframe thead th {\n",
       "        text-align: right;\n",
       "    }\n",
       "</style>\n",
       "<table border=\"1\" class=\"dataframe\">\n",
       "  <thead>\n",
       "    <tr style=\"text-align: right;\">\n",
       "      <th></th>\n",
       "      <th>Open</th>\n",
       "      <th>High</th>\n",
       "      <th>Low</th>\n",
       "      <th>Close</th>\n",
       "      <th>Volume</th>\n",
       "    </tr>\n",
       "  </thead>\n",
       "  <tbody>\n",
       "    <tr>\n",
       "      <th>0</th>\n",
       "      <td>192.686042</td>\n",
       "      <td>194.049359</td>\n",
       "      <td>192.646229</td>\n",
       "      <td>193.322922</td>\n",
       "      <td>47477700</td>\n",
       "    </tr>\n",
       "    <tr>\n",
       "      <th>1</th>\n",
       "      <td>193.253227</td>\n",
       "      <td>195.034508</td>\n",
       "      <td>192.725812</td>\n",
       "      <td>194.755875</td>\n",
       "      <td>53377300</td>\n",
       "    </tr>\n",
       "    <tr>\n",
       "      <th>2</th>\n",
       "      <td>192.168554</td>\n",
       "      <td>192.546706</td>\n",
       "      <td>190.486791</td>\n",
       "      <td>192.238205</td>\n",
       "      <td>60943700</td>\n",
       "    </tr>\n",
       "    <tr>\n",
       "      <th>3</th>\n",
       "      <td>192.138714</td>\n",
       "      <td>193.770718</td>\n",
       "      <td>190.785344</td>\n",
       "      <td>193.760773</td>\n",
       "      <td>52696900</td>\n",
       "    </tr>\n",
       "    <tr>\n",
       "      <th>4</th>\n",
       "      <td>194.138900</td>\n",
       "      <td>197.034717</td>\n",
       "      <td>193.900080</td>\n",
       "      <td>196.994919</td>\n",
       "      <td>70404200</td>\n",
       "    </tr>\n",
       "  </tbody>\n",
       "</table>\n",
       "</div>"
      ],
      "text/plain": [
       "         Open        High         Low       Close    Volume\n",
       "0  192.686042  194.049359  192.646229  193.322922  47477700\n",
       "1  193.253227  195.034508  192.725812  194.755875  53377300\n",
       "2  192.168554  192.546706  190.486791  192.238205  60943700\n",
       "3  192.138714  193.770718  190.785344  193.760773  52696900\n",
       "4  194.138900  197.034717  193.900080  196.994919  70404200"
      ]
     },
     "execution_count": 31,
     "metadata": {},
     "output_type": "execute_result"
    }
   ],
   "source": [
    "historico_apple.head()"
   ]
  },
  {
   "cell_type": "code",
   "execution_count": 33,
   "id": "77f289cb-1e73-4140-abcc-8949a1ee362f",
   "metadata": {},
   "outputs": [
    {
     "data": {
      "text/plain": [
       "[<matplotlib.lines.Line2D at 0x1a6b6146fc0>]"
      ]
     },
     "execution_count": 33,
     "metadata": {},
     "output_type": "execute_result"
    },
    {
     "data": {
      "image/png": "[encoded data removed]",
      "text/plain": [
       "<Figure size 640x480 with 1 Axes>"
      ]
     },
     "metadata": {},
     "output_type": "display_data"
    }
   ],
   "source": [
    "plt.plot(historico_apple.Close)"
   ]
  },
  {
   "cell_type": "code",
   "execution_count": null,
   "id": "11418d27-2a1a-49eb-b0c3-425767f7ede4",
   "metadata": {},
   "outputs": [],
   "source": []
  },
  {
   "cell_type": "code",
   "execution_count": null,
   "id": "bc95fb52-226c-4a1a-8fe9-33b8a1d03914",
   "metadata": {},
   "outputs": [],
   "source": []
  }
 ],
 "metadata": {
  "kernelspec": {
   "display_name": "Python 3 (ipykernel)",
   "language": "python",
   "name": "python3"
  },
  "language_info": {
   "codemirror_mode": {
    "name": "ipython",
    "version": 3
   },
   "file_extension": ".py",
   "mimetype": "text/x-python",
   "name": "python",
   "nbconvert_exporter": "python",
   "pygments_lexer": "ipython3",
   "version": "3.12.7"
  }
 },
 "nbformat": 4,
 "nbformat_minor": 5
}
